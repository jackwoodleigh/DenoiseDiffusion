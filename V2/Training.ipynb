{
 "cells": [
  {
   "cell_type": "code",
   "execution_count": 1,
   "id": "l3sr1EqDx-ra",
   "metadata": {
    "colab": {
     "base_uri": "https://localhost:8080/"
    },
    "id": "l3sr1EqDx-ra",
    "outputId": "91ebea63-dd65-4c78-fa7b-bcd011cf88ba"
   },
   "outputs": [
    {
     "name": "stderr",
     "output_type": "stream",
     "text": [
      "wandb: Currently logged in as: woodleighj (jackwoodleigh). Use `wandb login --relogin` to force relogin\n"
     ]
    },
    {
     "data": {
      "text/plain": [
       "True"
      ]
     },
     "execution_count": 1,
     "metadata": {},
     "output_type": "execute_result"
    }
   ],
   "source": [
    "#%pip install -q wandb\n",
    "import wandb\n",
    "wandb.login()\n",
    "\n",
    "#from google.colab import drive\n",
    "#drive.mount('/content/drive')"
   ]
  },
  {
   "cell_type": "code",
   "execution_count": 2,
   "id": "b6c2e233-d664-4895-adb9-6672edd65fa1",
   "metadata": {
    "id": "b6c2e233-d664-4895-adb9-6672edd65fa1"
   },
   "outputs": [],
   "source": [
    "#%pip install -q einops\n",
    "import os\n",
    "import torch\n",
    "import torchvision\n",
    "import torchvision.transforms as transforms\n",
    "from Diffusion import DiffusionModel\n",
    "from utils import *"
   ]
  },
  {
   "cell_type": "code",
   "execution_count": 3,
   "id": "9178844d-cfc6-4b05-995d-e98cb87db6c4",
   "metadata": {
    "id": "9178844d-cfc6-4b05-995d-e98cb87db6c4"
   },
   "outputs": [],
   "source": [
    "img_size = 32\n",
    "batch_size = 64\n",
    "epochs = 200\n",
    "learning_rate = 0.0001\n",
    "min_learning_rate= 0.00001\n",
    "log = True\n",
    "noise_steps = 1000\n",
    "noise_schedule = \"linear\"\n",
    "block_structure = [1, 1, 1]\n",
    "block_multiplier = [2, 2, 2]\n",
    "d_model = 64\n",
    "ema_weight = 0.9999"
   ]
  },
  {
   "cell_type": "code",
   "execution_count": 4,
   "id": "26e59974-a8d3-48e1-ba8b-64e1faeaf9d1",
   "metadata": {
    "id": "26e59974-a8d3-48e1-ba8b-64e1faeaf9d1"
   },
   "outputs": [],
   "source": [
    "transform = transforms.Compose([\n",
    "            transforms.Resize(32),\n",
    "            #transforms.RandomResizedCrop(img_size, scale=(0.8, 1.0)),\n",
    "            transforms.ToTensor(),\n",
    "            transforms.Normalize((0.5, 0.5, 0.5), (0.5, 0.5, 0.5)) # normalize mean and std for n=3 color channels\n",
    "        ])"
   ]
  },
  {
   "cell_type": "code",
   "execution_count": 5,
   "id": "fd2e1dd1-925c-406b-aae4-c3c05d0e7b14",
   "metadata": {
    "colab": {
     "base_uri": "https://localhost:8080/"
    },
    "id": "fd2e1dd1-925c-406b-aae4-c3c05d0e7b14",
    "outputId": "a50f6dd5-f760-4399-f77d-13731e4aa415"
   },
   "outputs": [
    {
     "name": "stdout",
     "output_type": "stream",
     "text": [
      "Files already downloaded and verified\n",
      "Files already downloaded and verified\n"
     ]
    }
   ],
   "source": [
    "training_set = torchvision.datasets.CIFAR10('./data', train=True, transform=transform, download=True)\n",
    "testing_set = torchvision.datasets.CIFAR10('./data', train=False, transform=transform, download=True)\n",
    "training_set, validation_set = torch.utils.data.random_split(training_set, [45000, 5000])"
   ]
  },
  {
   "cell_type": "code",
   "execution_count": 6,
   "id": "5dcf0790-52d4-4da9-a4e5-c7a297823e2b",
   "metadata": {
    "id": "5dcf0790-52d4-4da9-a4e5-c7a297823e2b"
   },
   "outputs": [],
   "source": [
    "training_loader = torch.utils.data.DataLoader(training_set, batch_size=batch_size, shuffle=True, num_workers=10,  pin_memory=True)\n",
    "validation_loader = torch.utils.data.DataLoader(validation_set, batch_size=batch_size, shuffle=True, num_workers=10, pin_memory=True)\n",
    "testing_loader = torch.utils.data.DataLoader(testing_set, batch_size=batch_size, shuffle=True, num_workers=10, pin_memory=True)"
   ]
  },
  {
   "cell_type": "code",
   "execution_count": 7,
   "id": "c2c7cd2c-716b-4b00-b340-e756ef117acd",
   "metadata": {
    "id": "c2c7cd2c-716b-4b00-b340-e756ef117acd"
   },
   "outputs": [],
   "source": [
    "model = DiffusionModel(\n",
    "    d_model=d_model,\n",
    "    block_structure=block_structure,\n",
    "    block_multiplier=block_multiplier,\n",
    "    learning_rate=learning_rate,\n",
    "    min_learning_rate=min_learning_rate,\n",
    "    in_channels=3,\n",
    "    out_channels=3,\n",
    "    noise_steps=noise_steps,\n",
    "    beta_start=1e-4,\n",
    "    beta_end=0.02,\n",
    "    img_size=img_size,\n",
    "    noise_schedule=noise_schedule,\n",
    "    ema_weight=ema_weight,\n",
    "    device=\"cuda\"\n",
    ")"
   ]
  },
  {
   "cell_type": "code",
   "execution_count": 8,
   "id": "YOf_HG8STfve",
   "metadata": {
    "colab": {
     "base_uri": "https://localhost:8080/"
    },
    "id": "YOf_HG8STfve",
    "outputId": "2204d883-db8c-4b9e-8fe3-fef1f4293756"
   },
   "outputs": [
    {
     "name": "stdout",
     "output_type": "stream",
     "text": [
      "47537795\n"
     ]
    }
   ],
   "source": [
    "model.print_parameter_count()"
   ]
  },
  {
   "cell_type": "code",
   "execution_count": 9,
   "id": "6hDt0a6xxKX9",
   "metadata": {
    "id": "6hDt0a6xxKX9"
   },
   "outputs": [],
   "source": [
    "path = './saves/model_save.pt'"
   ]
  },
  {
   "cell_type": "code",
   "execution_count": null,
   "id": "5e7a8d14-a28f-448f-a1bc-8c2cf06e394b",
   "metadata": {
    "colab": {
     "base_uri": "https://localhost:8080/",
     "height": 280
    },
    "id": "5e7a8d14-a28f-448f-a1bc-8c2cf06e394b",
    "outputId": "46c0a011-df71-46cb-fdfe-69d161b375ba"
   },
   "outputs": [
    {
     "data": {
      "text/html": [
       "wandb version 0.17.1 is available!  To upgrade, please run:\n",
       " $ pip install wandb --upgrade"
      ],
      "text/plain": [
       "<IPython.core.display.HTML object>"
      ]
     },
     "metadata": {},
     "output_type": "display_data"
    },
    {
     "data": {
      "text/html": [
       "Tracking run with wandb version 0.17.0"
      ],
      "text/plain": [
       "<IPython.core.display.HTML object>"
      ]
     },
     "metadata": {},
     "output_type": "display_data"
    },
    {
     "data": {
      "text/html": [
       "Run data is saved locally in <code>C:\\Users\\Jack\\Documents\\GitHub\\DenoiseDiffusion\\V2\\wandb\\run-20240608_093954-wruhpq1v</code>"
      ],
      "text/plain": [
       "<IPython.core.display.HTML object>"
      ]
     },
     "metadata": {},
     "output_type": "display_data"
    },
    {
     "data": {
      "text/html": [
       "Syncing run <strong><a href='https://wandb.ai/jackwoodleigh/DenoiseDiffusion/runs/wruhpq1v' target=\"_blank\">blooming-plasma-126</a></strong> to <a href='https://wandb.ai/jackwoodleigh/DenoiseDiffusion' target=\"_blank\">Weights & Biases</a> (<a href='https://wandb.me/run' target=\"_blank\">docs</a>)<br/>"
      ],
      "text/plain": [
       "<IPython.core.display.HTML object>"
      ]
     },
     "metadata": {},
     "output_type": "display_data"
    },
    {
     "data": {
      "text/html": [
       " View project at <a href='https://wandb.ai/jackwoodleigh/DenoiseDiffusion' target=\"_blank\">https://wandb.ai/jackwoodleigh/DenoiseDiffusion</a>"
      ],
      "text/plain": [
       "<IPython.core.display.HTML object>"
      ]
     },
     "metadata": {},
     "output_type": "display_data"
    },
    {
     "data": {
      "text/html": [
       " View run at <a href='https://wandb.ai/jackwoodleigh/DenoiseDiffusion/runs/wruhpq1v' target=\"_blank\">https://wandb.ai/jackwoodleigh/DenoiseDiffusion/runs/wruhpq1v</a>"
      ],
      "text/plain": [
       "<IPython.core.display.HTML object>"
      ]
     },
     "metadata": {},
     "output_type": "display_data"
    },
    {
     "name": "stdout",
     "output_type": "stream",
     "text": [
      "Epoch 0...\n"
     ]
    },
    {
     "name": "stderr",
     "output_type": "stream",
     "text": [
      "  0%|                                                                                          | 0/704 [00:00<?, ?it/s]C:\\Users\\Jack\\AppData\\Local\\Programs\\Python\\Python312\\Lib\\site-packages\\torch\\nn\\modules\\conv.py:456: UserWarning: Plan failed with a cudnnException: CUDNN_BACKEND_EXECUTION_PLAN_DESCRIPTOR: cudnnFinalize Descriptor Failed cudnn_status: CUDNN_STATUS_NOT_SUPPORTED (Triggered internally at ..\\aten\\src\\ATen\\native\\cudnn\\Conv_v8.cpp:919.)\n",
      "  return F.conv2d(input, weight, bias, self.stride,\n",
      "100%|████████████████████████████████████████████████████████████████████████████████| 704/704 [02:09<00:00,  5.43it/s]\n",
      "100%|██████████████████████████████████████████████████████████████████████████████████| 79/79 [00:23<00:00,  3.32it/s]\n"
     ]
    },
    {
     "name": "stdout",
     "output_type": "stream",
     "text": [
      "Training Loss: 0.3807156355945732, Validation Loss: 0.09642304263160198\n",
      "Model Saved.\n",
      "Epoch 1...\n"
     ]
    },
    {
     "name": "stderr",
     "output_type": "stream",
     "text": [
      "100%|████████████████████████████████████████████████████████████████████████████████| 704/704 [02:09<00:00,  5.43it/s]\n",
      "100%|██████████████████████████████████████████████████████████████████████████████████| 79/79 [00:23<00:00,  3.39it/s]\n"
     ]
    },
    {
     "name": "stdout",
     "output_type": "stream",
     "text": [
      "Training Loss: 0.07929124948780307, Validation Loss: 0.05251365817517419\n",
      "Model Saved.\n",
      "Epoch 2...\n"
     ]
    },
    {
     "name": "stderr",
     "output_type": "stream",
     "text": [
      "100%|████████████████████████████████████████████████████████████████████████████████| 704/704 [02:10<00:00,  5.40it/s]\n",
      "100%|██████████████████████████████████████████████████████████████████████████████████| 79/79 [00:23<00:00,  3.34it/s]\n"
     ]
    },
    {
     "name": "stdout",
     "output_type": "stream",
     "text": [
      "Training Loss: 0.05513101816706529, Validation Loss: 0.04280402221351485\n",
      "Model Saved.\n",
      "Epoch 3...\n"
     ]
    },
    {
     "name": "stderr",
     "output_type": "stream",
     "text": [
      "100%|████████████████████████████████████████████████████████████████████████████████| 704/704 [02:10<00:00,  5.40it/s]\n",
      "100%|██████████████████████████████████████████████████████████████████████████████████| 79/79 [00:24<00:00,  3.22it/s]\n"
     ]
    },
    {
     "name": "stdout",
     "output_type": "stream",
     "text": [
      "Training Loss: 0.044060761111640284, Validation Loss: 0.041575996346677406\n",
      "Model Saved.\n",
      "Epoch 4...\n"
     ]
    },
    {
     "name": "stderr",
     "output_type": "stream",
     "text": [
      "100%|████████████████████████████████████████████████████████████████████████████████| 704/704 [02:13<00:00,  5.26it/s]\n",
      "100%|██████████████████████████████████████████████████████████████████████████████████| 79/79 [00:24<00:00,  3.24it/s]\n"
     ]
    },
    {
     "name": "stdout",
     "output_type": "stream",
     "text": [
      "Training Loss: 0.03943392628041858, Validation Loss: 0.03819794915144956\n",
      "Model Saved.\n",
      "Epoch 5...\n"
     ]
    },
    {
     "name": "stderr",
     "output_type": "stream",
     "text": [
      " 99%|██████████████████████████████████████████████████████████████████████████████▊ | 694/704 [02:13<00:01,  6.07it/s]"
     ]
    }
   ],
   "source": [
    "if log:\n",
    "    wandb.init(\n",
    "        project=\"DenoiseDiffusion\",\n",
    "        config={\n",
    "        \"dataset\": \"CIFAR-100\",\n",
    "        \"img_size\": img_size,\n",
    "        \"learning_rate\": learning_rate,\n",
    "        \"batch_size\": batch_size,\n",
    "        \"epochs\": epochs,\n",
    "        \"noise_schedule\": noise_schedule,\n",
    "        \"d_model\": d_model,\n",
    "        \"block_structure\": block_structure,\n",
    "        \"block_multiplier\": block_multiplier,\n",
    "        \"EMA\": ema_weight,\n",
    "        \"Type\": \"DDPM_V2\",\n",
    "        \"Save\": \"Save-0\"\n",
    "        }\n",
    "    )\n",
    "\n",
    "model.train_model(training_loader, validation_loader, epochs, log=log, save_path=path)\n",
    "wandb.finish()"
   ]
  },
  {
   "cell_type": "code",
   "execution_count": null,
   "id": "81kXKtd_bBHO",
   "metadata": {
    "id": "81kXKtd_bBHO"
   },
   "outputs": [],
   "source": []
  },
  {
   "cell_type": "markdown",
   "id": "q4QPYC5owEhp",
   "metadata": {
    "id": "q4QPYC5owEhp"
   },
   "source": []
  },
  {
   "cell_type": "markdown",
   "id": "ysBeAoAfw7Xn",
   "metadata": {
    "id": "ysBeAoAfw7Xn"
   },
   "source": []
  },
  {
   "cell_type": "code",
   "execution_count": null,
   "id": "4b2ce93e-7c1b-42d8-8a63-ca1321c7dcb2",
   "metadata": {
    "id": "4b2ce93e-7c1b-42d8-8a63-ca1321c7dcb2"
   },
   "outputs": [],
   "source": []
  },
  {
   "cell_type": "code",
   "execution_count": null,
   "id": "x0VicxInv0Ps",
   "metadata": {
    "id": "x0VicxInv0Ps"
   },
   "outputs": [],
   "source": []
  }
 ],
 "metadata": {
  "colab": {
   "provenance": []
  },
  "kernelspec": {
   "display_name": "Python 3 (ipykernel)",
   "language": "python",
   "name": "python3"
  },
  "language_info": {
   "codemirror_mode": {
    "name": "ipython",
    "version": 3
   },
   "file_extension": ".py",
   "mimetype": "text/x-python",
   "name": "python",
   "nbconvert_exporter": "python",
   "pygments_lexer": "ipython3",
   "version": "3.12.3"
  }
 },
 "nbformat": 4,
 "nbformat_minor": 5
}
