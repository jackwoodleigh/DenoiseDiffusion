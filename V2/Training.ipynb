{
 "cells": [
  {
   "cell_type": "code",
   "execution_count": 1,
   "id": "l3sr1EqDx-ra",
   "metadata": {
    "colab": {
     "base_uri": "https://localhost:8080/"
    },
    "id": "l3sr1EqDx-ra",
    "outputId": "91ebea63-dd65-4c78-fa7b-bcd011cf88ba"
   },
   "outputs": [
    {
     "name": "stderr",
     "output_type": "stream",
     "text": [
      "wandb: Currently logged in as: woodleighj (jackwoodleigh). Use `wandb login --relogin` to force relogin\n"
     ]
    },
    {
     "data": {
      "text/plain": [
       "True"
      ]
     },
     "execution_count": 1,
     "metadata": {},
     "output_type": "execute_result"
    }
   ],
   "source": [
    "#%pip install -q wandb\n",
    "import wandb\n",
    "wandb.login()\n",
    "\n",
    "#from google.colab import drive\n",
    "#drive.mount('/content/drive')"
   ]
  },
  {
   "cell_type": "code",
   "execution_count": 2,
   "id": "b6c2e233-d664-4895-adb9-6672edd65fa1",
   "metadata": {
    "id": "b6c2e233-d664-4895-adb9-6672edd65fa1"
   },
   "outputs": [],
   "source": [
    "#%pip install -q einops\n",
    "import os\n",
    "import torch\n",
    "import torchvision\n",
    "import torchvision.transforms as transforms\n",
    "from Diffusion import DiffusionModel\n",
    "from utils import *"
   ]
  },
  {
   "cell_type": "code",
   "execution_count": 3,
   "id": "9178844d-cfc6-4b05-995d-e98cb87db6c4",
   "metadata": {
    "id": "9178844d-cfc6-4b05-995d-e98cb87db6c4"
   },
   "outputs": [],
   "source": [
    "img_size = 32\n",
    "batch_size = 32\n",
    "epochs = 100\n",
    "learning_rate = 0.0001\n",
    "min_learning_rate= 0.00001\n",
    "log = True\n",
    "noise_steps = 1000\n",
    "noise_schedule = \"linear\"\n",
    "block_structure = [1, 1, 1]\n",
    "block_multiplier = [2, 2, 2]\n",
    "d_model = 64"
   ]
  },
  {
   "cell_type": "code",
   "execution_count": 4,
   "id": "26e59974-a8d3-48e1-ba8b-64e1faeaf9d1",
   "metadata": {
    "id": "26e59974-a8d3-48e1-ba8b-64e1faeaf9d1"
   },
   "outputs": [],
   "source": [
    "transform = transforms.Compose([\n",
    "            transforms.Resize(32),\n",
    "            #transforms.RandomResizedCrop(img_size, scale=(0.8, 1.0)),\n",
    "            transforms.ToTensor(),\n",
    "            transforms.Normalize((0.5, 0.5, 0.5), (0.5, 0.5, 0.5)) # normalize mean and std for n=3 color channels\n",
    "        ])"
   ]
  },
  {
   "cell_type": "code",
   "execution_count": 5,
   "id": "fd2e1dd1-925c-406b-aae4-c3c05d0e7b14",
   "metadata": {
    "colab": {
     "base_uri": "https://localhost:8080/"
    },
    "id": "fd2e1dd1-925c-406b-aae4-c3c05d0e7b14",
    "outputId": "a50f6dd5-f760-4399-f77d-13731e4aa415"
   },
   "outputs": [
    {
     "name": "stdout",
     "output_type": "stream",
     "text": [
      "Files already downloaded and verified\n",
      "Files already downloaded and verified\n"
     ]
    }
   ],
   "source": [
    "training_set = torchvision.datasets.CIFAR10('./data', train=True, transform=transform, download=True)\n",
    "testing_set = torchvision.datasets.CIFAR10('./data', train=False, transform=transform, download=True)\n",
    "training_set, validation_set = torch.utils.data.random_split(training_set, [45000, 5000])"
   ]
  },
  {
   "cell_type": "code",
   "execution_count": 6,
   "id": "5dcf0790-52d4-4da9-a4e5-c7a297823e2b",
   "metadata": {
    "id": "5dcf0790-52d4-4da9-a4e5-c7a297823e2b"
   },
   "outputs": [],
   "source": [
    "training_loader = torch.utils.data.DataLoader(training_set, batch_size=batch_size, shuffle=True, num_workers=10,  pin_memory=True)\n",
    "validation_loader = torch.utils.data.DataLoader(validation_set, batch_size=batch_size, shuffle=True, num_workers=10, pin_memory=True)\n",
    "testing_loader = torch.utils.data.DataLoader(testing_set, batch_size=batch_size, shuffle=True, num_workers=10, pin_memory=True)"
   ]
  },
  {
   "cell_type": "code",
   "execution_count": 7,
   "id": "c2c7cd2c-716b-4b00-b340-e756ef117acd",
   "metadata": {
    "id": "c2c7cd2c-716b-4b00-b340-e756ef117acd"
   },
   "outputs": [],
   "source": [
    "model = DiffusionModel(\n",
    "    d_model=d_model,\n",
    "    block_structure=block_structure,\n",
    "    block_multiplier=block_multiplier,\n",
    "    learning_rate=learning_rate,\n",
    "    min_learning_rate=min_learning_rate,\n",
    "    in_channels=3,\n",
    "    out_channels=3,\n",
    "    noise_steps=noise_steps,\n",
    "    beta_start=1e-4,\n",
    "    beta_end=0.02,\n",
    "    img_size=img_size,\n",
    "    noise_schedule=noise_schedule,\n",
    "    device=\"cuda\"\n",
    ")"
   ]
  },
  {
   "cell_type": "code",
   "execution_count": 8,
   "id": "YOf_HG8STfve",
   "metadata": {
    "colab": {
     "base_uri": "https://localhost:8080/"
    },
    "id": "YOf_HG8STfve",
    "outputId": "2204d883-db8c-4b9e-8fe3-fef1f4293756"
   },
   "outputs": [
    {
     "name": "stdout",
     "output_type": "stream",
     "text": [
      "47610947\n"
     ]
    }
   ],
   "source": [
    "model.print_parameter_count()"
   ]
  },
  {
   "cell_type": "code",
   "execution_count": 12,
   "id": "6hDt0a6xxKX9",
   "metadata": {
    "id": "6hDt0a6xxKX9"
   },
   "outputs": [],
   "source": [
    "path = './saves/model_save.pt'"
   ]
  },
  {
   "cell_type": "code",
   "execution_count": null,
   "id": "5e7a8d14-a28f-448f-a1bc-8c2cf06e394b",
   "metadata": {
    "colab": {
     "base_uri": "https://localhost:8080/",
     "height": 280
    },
    "id": "5e7a8d14-a28f-448f-a1bc-8c2cf06e394b",
    "outputId": "46c0a011-df71-46cb-fdfe-69d161b375ba"
   },
   "outputs": [
    {
     "data": {
      "text/html": [
       "Finishing last run (ID:cxs0l0xm) before initializing another..."
      ],
      "text/plain": [
       "<IPython.core.display.HTML object>"
      ]
     },
     "metadata": {},
     "output_type": "display_data"
    },
    {
     "data": {
      "application/vnd.jupyter.widget-view+json": {
       "model_id": "",
       "version_major": 2,
       "version_minor": 0
      },
      "text/plain": [
       "VBox(children=(Label(value='0.008 MB of 0.008 MB uploaded\\r'), FloatProgress(value=1.0, max=1.0)))"
      ]
     },
     "metadata": {},
     "output_type": "display_data"
    },
    {
     "data": {
      "text/html": [
       "<style>\n",
       "    table.wandb td:nth-child(1) { padding: 0 10px; text-align: left ; width: auto;} td:nth-child(2) {text-align: left ; width: 100%}\n",
       "    .wandb-row { display: flex; flex-direction: row; flex-wrap: wrap; justify-content: flex-start; width: 100% }\n",
       "    .wandb-col { display: flex; flex-direction: column; flex-basis: 100%; flex: 1; padding: 10px; }\n",
       "    </style>\n",
       "<div class=\"wandb-row\"><div class=\"wandb-col\"><h3>Run history:</h3><br/><table class=\"wandb\"><tr><td>Training_Loss</td><td>▁</td></tr><tr><td>Validation_Loss</td><td>▁</td></tr></table><br/></div><div class=\"wandb-col\"><h3>Run summary:</h3><br/><table class=\"wandb\"><tr><td>Training_Loss</td><td>0.06197</td></tr><tr><td>Validation_Loss</td><td>0.04922</td></tr></table><br/></div></div>"
      ],
      "text/plain": [
       "<IPython.core.display.HTML object>"
      ]
     },
     "metadata": {},
     "output_type": "display_data"
    },
    {
     "data": {
      "text/html": [
       " View run <strong style=\"color:#cdcd00\">dark-cloud-103</strong> at: <a href='https://wandb.ai/jackwoodleigh/DenoiseDiffusion/runs/cxs0l0xm' target=\"_blank\">https://wandb.ai/jackwoodleigh/DenoiseDiffusion/runs/cxs0l0xm</a><br/> View project at: <a href='https://wandb.ai/jackwoodleigh/DenoiseDiffusion' target=\"_blank\">https://wandb.ai/jackwoodleigh/DenoiseDiffusion</a><br/>Synced 5 W&B file(s), 1 media file(s), 0 artifact file(s) and 0 other file(s)"
      ],
      "text/plain": [
       "<IPython.core.display.HTML object>"
      ]
     },
     "metadata": {},
     "output_type": "display_data"
    },
    {
     "data": {
      "text/html": [
       "Find logs at: <code>.\\wandb\\run-20240606_093624-cxs0l0xm\\logs</code>"
      ],
      "text/plain": [
       "<IPython.core.display.HTML object>"
      ]
     },
     "metadata": {},
     "output_type": "display_data"
    },
    {
     "data": {
      "text/html": [
       "Successfully finished last run (ID:cxs0l0xm). Initializing new run:<br/>"
      ],
      "text/plain": [
       "<IPython.core.display.HTML object>"
      ]
     },
     "metadata": {},
     "output_type": "display_data"
    },
    {
     "data": {
      "application/vnd.jupyter.widget-view+json": {
       "model_id": "14f10ca47d0d4dee90237506a5c8729d",
       "version_major": 2,
       "version_minor": 0
      },
      "text/plain": [
       "VBox(children=(Label(value='Waiting for wandb.init()...\\r'), FloatProgress(value=0.011111111111111112, max=1.0…"
      ]
     },
     "metadata": {},
     "output_type": "display_data"
    },
    {
     "data": {
      "text/html": [
       "Tracking run with wandb version 0.17.0"
      ],
      "text/plain": [
       "<IPython.core.display.HTML object>"
      ]
     },
     "metadata": {},
     "output_type": "display_data"
    },
    {
     "data": {
      "text/html": [
       "Run data is saved locally in <code>C:\\Users\\Jack\\Documents\\GitHub\\DenoiseDiffusion\\V2\\wandb\\run-20240606_094229-b92jkiy2</code>"
      ],
      "text/plain": [
       "<IPython.core.display.HTML object>"
      ]
     },
     "metadata": {},
     "output_type": "display_data"
    },
    {
     "data": {
      "text/html": [
       "Syncing run <strong><a href='https://wandb.ai/jackwoodleigh/DenoiseDiffusion/runs/b92jkiy2' target=\"_blank\">devout-armadillo-104</a></strong> to <a href='https://wandb.ai/jackwoodleigh/DenoiseDiffusion' target=\"_blank\">Weights & Biases</a> (<a href='https://wandb.me/run' target=\"_blank\">docs</a>)<br/>"
      ],
      "text/plain": [
       "<IPython.core.display.HTML object>"
      ]
     },
     "metadata": {},
     "output_type": "display_data"
    },
    {
     "data": {
      "text/html": [
       " View project at <a href='https://wandb.ai/jackwoodleigh/DenoiseDiffusion' target=\"_blank\">https://wandb.ai/jackwoodleigh/DenoiseDiffusion</a>"
      ],
      "text/plain": [
       "<IPython.core.display.HTML object>"
      ]
     },
     "metadata": {},
     "output_type": "display_data"
    },
    {
     "data": {
      "text/html": [
       " View run at <a href='https://wandb.ai/jackwoodleigh/DenoiseDiffusion/runs/b92jkiy2' target=\"_blank\">https://wandb.ai/jackwoodleigh/DenoiseDiffusion/runs/b92jkiy2</a>"
      ],
      "text/plain": [
       "<IPython.core.display.HTML object>"
      ]
     },
     "metadata": {},
     "output_type": "display_data"
    },
    {
     "name": "stdout",
     "output_type": "stream",
     "text": [
      "Epoch 0...\n"
     ]
    },
    {
     "name": "stderr",
     "output_type": "stream",
     "text": [
      "100%|████████████████████████████████████████████████████████████████████████████████| 157/157 [00:35<00:00,  4.42it/s]\n",
      "100%|████████████████████████████████████████████████████████████████████████████████| 157/157 [00:24<00:00,  6.28it/s]\n"
     ]
    },
    {
     "name": "stdout",
     "output_type": "stream",
     "text": [
      "Training Loss: 0.05219194635891231, Validation Loss: 0.04901714235022189\n"
     ]
    }
   ],
   "source": [
    "if log:\n",
    "    wandb.init(\n",
    "        project=\"DenoiseDiffusion\",\n",
    "        config={\n",
    "        \"dataset\": \"CIFAR-100\",\n",
    "        \"img_size\": img_size,\n",
    "        \"learning_rate\": learning_rate,\n",
    "        \"batch_size\": batch_size,\n",
    "        \"epochs\": epochs,\n",
    "        \"noise_schedule\": noise_schedule,\n",
    "        \"d_model\": d_model,\n",
    "        \"block_structure\": block_structure,\n",
    "        \"block_multiplier\": block_multiplier,\n",
    "        \"Type\": \"DDPM_V2\",\n",
    "        \"Save\": \"Save-0\"\n",
    "        }\n",
    "    )\n",
    "\n",
    "model.train_model(validation_loader, validation_loader, epochs, log=log, save_path=path)\n",
    "wandb.finish()"
   ]
  },
  {
   "cell_type": "code",
   "execution_count": null,
   "id": "81kXKtd_bBHO",
   "metadata": {
    "id": "81kXKtd_bBHO"
   },
   "outputs": [],
   "source": []
  },
  {
   "cell_type": "markdown",
   "id": "q4QPYC5owEhp",
   "metadata": {
    "id": "q4QPYC5owEhp"
   },
   "source": []
  },
  {
   "cell_type": "markdown",
   "id": "ysBeAoAfw7Xn",
   "metadata": {
    "id": "ysBeAoAfw7Xn"
   },
   "source": []
  },
  {
   "cell_type": "code",
   "execution_count": null,
   "id": "4b2ce93e-7c1b-42d8-8a63-ca1321c7dcb2",
   "metadata": {
    "id": "4b2ce93e-7c1b-42d8-8a63-ca1321c7dcb2"
   },
   "outputs": [],
   "source": []
  },
  {
   "cell_type": "code",
   "execution_count": null,
   "id": "x0VicxInv0Ps",
   "metadata": {
    "id": "x0VicxInv0Ps"
   },
   "outputs": [],
   "source": []
  }
 ],
 "metadata": {
  "colab": {
   "provenance": []
  },
  "kernelspec": {
   "display_name": "Python 3 (ipykernel)",
   "language": "python",
   "name": "python3"
  },
  "language_info": {
   "codemirror_mode": {
    "name": "ipython",
    "version": 3
   },
   "file_extension": ".py",
   "mimetype": "text/x-python",
   "name": "python",
   "nbconvert_exporter": "python",
   "pygments_lexer": "ipython3",
   "version": "3.12.3"
  }
 },
 "nbformat": 4,
 "nbformat_minor": 5
}
