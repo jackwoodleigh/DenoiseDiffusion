{
 "cells": [
  {
   "cell_type": "code",
   "execution_count": 1,
   "id": "11a83d1d-d557-41bb-9c1e-7d9869142b83",
   "metadata": {},
   "outputs": [],
   "source": [
    "import torchvision\n",
    "import torch\n",
    "from torchvision import transforms\n",
    "from torchvision import transforms\n",
    "from Diffusion import DiffusionModel\n"
   ]
  },
  {
   "cell_type": "code",
   "execution_count": null,
   "id": "d10a6db6-b59f-43f3-ac03-42bdcb8e6c7a",
   "metadata": {},
   "outputs": [],
   "source": [
    "transform = transforms.Compose([\n",
    "            transforms.Resize(32),\n",
    "            transforms.ToTensor(),\n",
    "            transforms.Normalize((0.5, 0.5, 0.5), (0.5, 0.5, 0.5)) # normalize mean and std for n=3 color channels\n",
    "        ])\n",
    "training_set = torchvision.datasets.CIFAR10('./data', train=True, transform=transform, download=True)\n",
    "training_loader = torch.utils.data.DataLoader(training_set, batch_size=32, shuffle=True, num_workers=1,  pin_memory=True)\n",
    "\n",
    "\n",
    "model = DiffusionModel(learning_rate=0.0005).to(\"cuda\")\n",
    "n = torch.tensor(1)\n",
    "t = torch.tensor([1])\n",
    "model.train_model(training_loader, t, 10, 1)"
   ]
  }
 ],
 "metadata": {
  "kernelspec": {
   "display_name": "Python 3 (ipykernel)",
   "language": "python",
   "name": "python3"
  },
  "language_info": {
   "codemirror_mode": {
    "name": "ipython",
    "version": 3
   },
   "file_extension": ".py",
   "mimetype": "text/x-python",
   "name": "python",
   "nbconvert_exporter": "python",
   "pygments_lexer": "ipython3",
   "version": "3.12.3"
  }
 },
 "nbformat": 4,
 "nbformat_minor": 5
}
