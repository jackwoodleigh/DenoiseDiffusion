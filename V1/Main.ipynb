{
 "cells": [
  {
   "cell_type": "code",
   "execution_count": 1,
   "id": "b6c2e233-d664-4895-adb9-6672edd65fa1",
   "metadata": {},
   "outputs": [],
   "source": [
    "import os\n",
    "import torch\n",
    "import torchvision\n",
    "import torchvision.transforms as transforms\n",
    "from DDPM import DiffusionModel\n",
    "from utils import *\n",
    "import numpy as np\n",
    "import wandb\n",
    "import random"
   ]
  },
  {
   "cell_type": "code",
   "execution_count": 7,
   "id": "9178844d-cfc6-4b05-995d-e98cb87db6c4",
   "metadata": {},
   "outputs": [],
   "source": [
    "img_size = 32\n",
    "batch_size = 16\n",
    "epochs = 1000\n",
    "learning_rate = 0.0001\n",
    "log = True"
   ]
  },
  {
   "cell_type": "code",
   "execution_count": 8,
   "id": "26e59974-a8d3-48e1-ba8b-64e1faeaf9d1",
   "metadata": {},
   "outputs": [],
   "source": [
    "transform = transforms.Compose([\n",
    "            transforms.Resize(img_size + int(.25*img_size)),     # Scale up by 25% to enable random crop\n",
    "            transforms.RandomResizedCrop(img_size, scale=(0.8, 1.0)),\n",
    "            transforms.ToTensor(),\n",
    "            transforms.Normalize((0.5, 0.5, 0.5), (0.5, 0.5, 0.5)) # normalize mean and std for n=3 color channels\n",
    "        ])"
   ]
  },
  {
   "cell_type": "code",
   "execution_count": 9,
   "id": "fd2e1dd1-925c-406b-aae4-c3c05d0e7b14",
   "metadata": {},
   "outputs": [
    {
     "name": "stdout",
     "output_type": "stream",
     "text": [
      "Files already downloaded and verified\n",
      "Files already downloaded and verified\n"
     ]
    }
   ],
   "source": [
    "training_set = torchvision.datasets.CIFAR10('./data', train=True, transform=transform, download=True)\n",
    "testing_set = torchvision.datasets.CIFAR10('./data', train=False, transform=transform, download=True)\n",
    "training_set, validation_set = torch.utils.data.random_split(training_set, [45000, 5000])"
   ]
  },
  {
   "cell_type": "code",
   "execution_count": 10,
   "id": "5dcf0790-52d4-4da9-a4e5-c7a297823e2b",
   "metadata": {},
   "outputs": [],
   "source": [
    "training_loader = torch.utils.data.DataLoader(training_set, batch_size=batch_size, shuffle=True, num_workers=10,  pin_memory=True)\n",
    "validation_loader = torch.utils.data.DataLoader(validation_set, batch_size=batch_size, shuffle=True, num_workers=10, pin_memory=True)\n",
    "testing_loader = torch.utils.data.DataLoader(testing_set, batch_size=batch_size, shuffle=True, num_workers=10, pin_memory=True)"
   ]
  },
  {
   "cell_type": "code",
   "execution_count": 11,
   "id": "c2c7cd2c-716b-4b00-b340-e756ef117acd",
   "metadata": {},
   "outputs": [],
   "source": [
    "model = DiffusionModel(\n",
    "    learning_rate=learning_rate,\n",
    "    in_channels=3,\n",
    "    out_channels=3,\n",
    "    noise_steps=1000,\n",
    "    beta_start=1e-4,\n",
    "    beta_end=0.02,\n",
    "    img_size=img_size,\n",
    "    device=\"cuda\",\n",
    "    num_class=10\n",
    ")"
   ]
  },
  {
   "cell_type": "code",
   "execution_count": null,
   "id": "5e7a8d14-a28f-448f-a1bc-8c2cf06e394b",
   "metadata": {},
   "outputs": [
    {
     "name": "stderr",
     "output_type": "stream",
     "text": [
      "wandb: Currently logged in as: woodleighj (jackwoodleigh). Use `wandb login --relogin` to force relogin\n"
     ]
    },
    {
     "data": {
      "text/html": [
       "Tracking run with wandb version 0.17.0"
      ],
      "text/plain": [
       "<IPython.core.display.HTML object>"
      ]
     },
     "metadata": {},
     "output_type": "display_data"
    },
    {
     "data": {
      "text/html": [
       "Run data is saved locally in <code>C:\\Users\\Jack\\Documents\\GitHub\\DenoiseDiffusion\\V1\\wandb\\run-20240528_214716-242217a3</code>"
      ],
      "text/plain": [
       "<IPython.core.display.HTML object>"
      ]
     },
     "metadata": {},
     "output_type": "display_data"
    },
    {
     "data": {
      "text/html": [
       "Syncing run <strong><a href='https://wandb.ai/jackwoodleigh/DenoiseDiffusion/runs/242217a3' target=\"_blank\">golden-wind-3</a></strong> to <a href='https://wandb.ai/jackwoodleigh/DenoiseDiffusion' target=\"_blank\">Weights & Biases</a> (<a href='https://wandb.me/run' target=\"_blank\">docs</a>)<br/>"
      ],
      "text/plain": [
       "<IPython.core.display.HTML object>"
      ]
     },
     "metadata": {},
     "output_type": "display_data"
    },
    {
     "data": {
      "text/html": [
       " View project at <a href='https://wandb.ai/jackwoodleigh/DenoiseDiffusion' target=\"_blank\">https://wandb.ai/jackwoodleigh/DenoiseDiffusion</a>"
      ],
      "text/plain": [
       "<IPython.core.display.HTML object>"
      ]
     },
     "metadata": {},
     "output_type": "display_data"
    },
    {
     "data": {
      "text/html": [
       " View run at <a href='https://wandb.ai/jackwoodleigh/DenoiseDiffusion/runs/242217a3' target=\"_blank\">https://wandb.ai/jackwoodleigh/DenoiseDiffusion/runs/242217a3</a>"
      ],
      "text/plain": [
       "<IPython.core.display.HTML object>"
      ]
     },
     "metadata": {},
     "output_type": "display_data"
    },
    {
     "name": "stdout",
     "output_type": "stream",
     "text": [
      "Epoch 0... \n"
     ]
    },
    {
     "name": "stderr",
     "output_type": "stream",
     "text": [
      "  0%|                                                                                         | 0/2813 [00:00<?, ?it/s]C:\\Users\\Jack\\AppData\\Local\\Programs\\Python\\Python312\\Lib\\site-packages\\torch\\autograd\\graph.py:744: UserWarning: Plan failed with a cudnnException: CUDNN_BACKEND_EXECUTION_PLAN_DESCRIPTOR: cudnnFinalize Descriptor Failed cudnn_status: CUDNN_STATUS_NOT_SUPPORTED (Triggered internally at ..\\aten\\src\\ATen\\native\\cudnn\\Conv_v8.cpp:919.)\n",
      "  return Variable._execution_engine.run_backward(  # Calls into the C++ engine to run the backward pass\n",
      "100%|██████████████████████████████████████████████████████████████████████████████| 2813/2813 [02:09<00:00, 21.73it/s]\n",
      "100%|████████████████████████████████████████████████████████████████████████████████| 313/313 [00:25<00:00, 12.07it/s]\n"
     ]
    },
    {
     "name": "stdout",
     "output_type": "stream",
     "text": [
      "Average Training Loss = 0.24715444009381599, Average Validation Loss = 0.13583948448919259\n",
      "\n",
      "Model saved to diffusion_model.pth\n",
      "Epoch 1... \n"
     ]
    },
    {
     "name": "stderr",
     "output_type": "stream",
     "text": [
      "100%|██████████████████████████████████████████████████████████████████████████████| 2813/2813 [02:10<00:00, 21.56it/s]\n",
      "100%|████████████████████████████████████████████████████████████████████████████████| 313/313 [00:26<00:00, 12.03it/s]\n"
     ]
    },
    {
     "name": "stdout",
     "output_type": "stream",
     "text": [
      "Average Training Loss = 0.11280580135403347, Average Validation Loss = 0.09742596115881262\n",
      "\n",
      "Model saved to diffusion_model.pth\n",
      "Epoch 2... \n"
     ]
    },
    {
     "name": "stderr",
     "output_type": "stream",
     "text": [
      "  0%|                                                                                         | 0/2813 [00:00<?, ?it/s]"
     ]
    }
   ],
   "source": [
    "if log:\n",
    "    wandb.init(\n",
    "        project=\"DenoiseDiffusion\",\n",
    "        config={\n",
    "        \"dataset\": \"CIFAR-100\",\n",
    "        \"learning_rate\": learning_rate,\n",
    "        \"batch_size\": batch_size,\n",
    "        \"epochs\": epochs,\n",
    "        \"Type\": \"DDPM\",\n",
    "        \"Save\": \"Save-0\"\n",
    "        }\n",
    "    )\n",
    "\n",
    "model.train(training_loader, validation_loader, epochs, log=log)\n",
    "wandb.finish()"
   ]
  },
  {
   "cell_type": "code",
   "execution_count": null,
   "id": "4b2ce93e-7c1b-42d8-8a63-ca1321c7dcb2",
   "metadata": {},
   "outputs": [],
   "source": []
  }
 ],
 "metadata": {
  "kernelspec": {
   "display_name": "Python 3 (ipykernel)",
   "language": "python",
   "name": "python3"
  },
  "language_info": {
   "codemirror_mode": {
    "name": "ipython",
    "version": 3
   },
   "file_extension": ".py",
   "mimetype": "text/x-python",
   "name": "python",
   "nbconvert_exporter": "python",
   "pygments_lexer": "ipython3",
   "version": "3.12.3"
  }
 },
 "nbformat": 4,
 "nbformat_minor": 5
}
